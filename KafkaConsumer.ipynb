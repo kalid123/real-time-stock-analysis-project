{
 "cells": [
  {
   "cell_type": "code",
   "execution_count": 9,
   "id": "871920ab",
   "metadata": {},
   "outputs": [],
   "source": [
    "from kafka import KafkaConsumer\n",
    "from time import sleep\n",
    "from json import dumps, loads\n",
    "import json\n",
    "from s3fs import S3FileSystem"
   ]
  },
  {
   "cell_type": "code",
   "execution_count": 12,
   "id": "9c551ce9",
   "metadata": {},
   "outputs": [],
   "source": [
    "consumer = KafkaConsumer(\n",
    "    'demo_test',\n",
    "    bootstrap_servers= ['18.212.35.128:9092'], # Connect it to my Pubic ip address\n",
    "    value_deserializer = lambda x: loads(x.decode('utf-8')))"
   ]
  },
  {
   "cell_type": "code",
   "execution_count": 13,
   "id": "8aa22592",
   "metadata": {},
   "outputs": [],
   "source": [
    "#for c in consumer:\n",
    "# print(c.value)"
   ]
  },
  {
   "cell_type": "code",
   "execution_count": 14,
   "id": "df352885",
   "metadata": {},
   "outputs": [],
   "source": [
    "s3 = S3FileSystem()"
   ]
  },
  {
   "cell_type": "code",
   "execution_count": null,
   "id": "14c841c7",
   "metadata": {},
   "outputs": [],
   "source": [
    "for count, i in enumerate(consumer):\n",
    "    with s3.open(\"s3://kalid-stock-market-project/kafka project/{}.json\".format(count),'w')as file: # Call the file from S3 storage.\n",
    "        json.dump(i.value,file)"
   ]
  },
  {
   "cell_type": "code",
   "execution_count": null,
   "id": "37c67426",
   "metadata": {},
   "outputs": [],
   "source": []
  }
 ],
 "metadata": {
  "kernelspec": {
   "display_name": "Python 3 (ipykernel)",
   "language": "python",
   "name": "python3"
  },
  "language_info": {
   "codemirror_mode": {
    "name": "ipython",
    "version": 3
   },
   "file_extension": ".py",
   "mimetype": "text/x-python",
   "name": "python",
   "nbconvert_exporter": "python",
   "pygments_lexer": "ipython3",
   "version": "3.11.5"
  }
 },
 "nbformat": 4,
 "nbformat_minor": 5
}
